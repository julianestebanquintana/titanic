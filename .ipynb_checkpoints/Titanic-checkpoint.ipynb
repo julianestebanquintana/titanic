{
 "cells": [
  {
   "cell_type": "markdown",
   "id": "a1c2c53b-19c9-44a9-a5a4-feb2bc2fccba",
   "metadata": {},
   "source": [
    "# Titanic: problema de clasificación"
   ]
  },
  {
   "cell_type": "markdown",
   "id": "40993fea-3def-4c22-9299-c449df8c09bc",
   "metadata": {},
   "source": [
    "### The Challenge\n",
    "The sinking of the Titanic is one of the most infamous shipwrecks in history. On April 15, 1912, during her maiden voyage, the widely considered “unsinkable” RMS Titanic sank after colliding with an iceberg. Unfortunately, there weren’t enough lifeboats for everyone onboard, resulting in the death of 1502 out of 2224 passengers and crew. While there was some element of luck involved in surviving, it seems some groups of people were more likely to survive than others.  \n",
    "In this challenge, we ask you to build a predictive model that answers the question: “what sorts of people were more likely to survive?” using passenger data (ie name, age, gender, socio-economic class, etc).\n",
    "\n",
    "### What Data Will I Use in This Competition?\n",
    "In this competition, you’ll gain access to two similar datasets that include passenger information like name, age, gender, socio-economic class, etc. One dataset is titled *train.csv* and the other is titled *test.csv*.  \n",
    "- Train.csv will contain the details of a subset of the passengers on board (891 to be exact) and importantly, will reveal whether they survived or not, also known as the “ground truth”.  \n",
    "- The test.csv dataset contains similar information but does not disclose the “ground truth” for each passenger. It’s your job to predict these outcomes.  \n",
    "Using the patterns you find in the train.csv data, predict whether the other 418 passengers on board (found in test.csv) survived. Check out the “Data” tab to explore the datasets even further. Once you feel you’ve created a competitive model, submit it to Kaggle to see where your model stands on our leaderboard against other Kagglers.\n",
    "\n",
    "### Submission File Format:  \n",
    "You should submit a csv file with exactly 418 entries plus a header row. Your submission will show an error if you have extra columns (beyond *PassengerId* and *Survived*) or rows. The file should have exactly 2 columns:\n",
    "- **PassengerId** (sorted in any order)\n",
    "- **Survived** (contains your binary predictions: 1 for survived, 0 for deceased)"
   ]
  },
  {
   "cell_type": "code",
   "execution_count": null,
   "id": "a98f2df2-6886-4ee8-bc92-6e143731ba9e",
   "metadata": {},
   "outputs": [],
   "source": []
  }
 ],
 "metadata": {
  "kernelspec": {
   "display_name": "Python 3 (ipykernel)",
   "language": "python",
   "name": "python3"
  },
  "language_info": {
   "codemirror_mode": {
    "name": "ipython",
    "version": 3
   },
   "file_extension": ".py",
   "mimetype": "text/x-python",
   "name": "python",
   "nbconvert_exporter": "python",
   "pygments_lexer": "ipython3",
   "version": "3.9.18"
  }
 },
 "nbformat": 4,
 "nbformat_minor": 5
}
